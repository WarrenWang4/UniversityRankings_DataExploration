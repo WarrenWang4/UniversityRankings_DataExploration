{
 "cells": [
  {
   "cell_type": "markdown",
   "metadata": {},
   "source": [
    "# Explore and Compare: Different University Rankings"
   ]
  },
  {
   "cell_type": "markdown",
   "metadata": {},
   "source": [
    "## Industry: World Univeristy Ranking Systems"
   ]
  },
  {
   "cell_type": "code",
   "execution_count": 1,
   "metadata": {},
   "outputs": [],
   "source": [
    "import pandas as pd\n",
    "import numpy as np\n",
    "import matplotlib.pyplot as plt\n",
    "\n",
    "# From the Times Higher Education World University Ranking\n",
    "timesData = pd.read_csv(\"timesData.csv\") \n",
    "\n",
    "# From the Academic Ranking of World Universities AKA the Shanghai Ranking\n",
    "shanghaiData = pd.read_csv(\"shanghaiData.csv\") \n",
    "\n",
    "# From the Center for World University Rankings\n",
    "cwurData = pd.read_csv(\"cwurData.csv\") "
   ]
  },
  {
   "cell_type": "markdown",
   "metadata": {},
   "source": [
    "## Formulate one or two ideas on how the data sets could be combined to establish additional value using exploratory data analysis:"
   ]
  },
  {
   "cell_type": "markdown",
   "metadata": {},
   "source": [
    "### Merged Dataset"
   ]
  },
  {
   "cell_type": "markdown",
   "metadata": {},
   "source": [
    "This allows a side by side comparison of Universities ranked in the top 100"
   ]
  },
  {
   "cell_type": "code",
   "execution_count": 2,
   "metadata": {},
   "outputs": [
    {
     "name": "stdout",
     "output_type": "stream",
     "text": [
      "   world_rank                                         times_rank  \\\n",
      "0           1                                 Harvard University   \n",
      "1           2                 California Institute of Technology   \n",
      "2           3              Massachusetts Institute of Technology   \n",
      "3           4                                Stanford University   \n",
      "4           5                               Princeton University   \n",
      "5           6                            University of Cambridge   \n",
      "6           6                               University of Oxford   \n",
      "7           8                 University of California, Berkeley   \n",
      "8           9                            Imperial College London   \n",
      "9          10                                    Yale University   \n",
      "10         11              University of California, Los Angeles   \n",
      "11         12                              University of Chicago   \n",
      "12         13                           Johns Hopkins University   \n",
      "13         14                                 Cornell University   \n",
      "14         15  ETH Zurich – Swiss Federal Institute of Techno...   \n",
      "15         15                             University of Michigan   \n",
      "16         17                              University of Toronto   \n",
      "17         18                                Columbia University   \n",
      "18         19                         University of Pennsylvania   \n",
      "19         20                         Carnegie Mellon University   \n",
      "20         21                            University of Hong Kong   \n",
      "21         22                          University College London   \n",
      "22         23                           University of Washington   \n",
      "23         24                                    Duke University   \n",
      "24         25                            Northwestern University   \n",
      "25         26                                University of Tokyo   \n",
      "26         27                    Georgia Institute of Technology   \n",
      "27         28        Pohang University of Science and Technology   \n",
      "28         29            University of California, Santa Barbara   \n",
      "29         30                     University of British Columbia   \n",
      "..        ...                                                ...   \n",
      "70         71                               University of Sydney   \n",
      "71         72                             University of Virginia   \n",
      "72         73                             University of Adelaide   \n",
      "73         73                  University of Southern California   \n",
      "74         75                                     William & Mary   \n",
      "75         76                             Trinity College Dublin   \n",
      "76         77                              King’s College London   \n",
      "77         78                             Stony Brook University   \n",
      "78         79  Korea Advanced Institute of Science and Techno...   \n",
      "79         79                               University of Sussex   \n",
      "80         81                       The University of Queensland   \n",
      "81         81                                 University of York   \n",
      "82         83                              Heidelberg University   \n",
      "83         83                                 University of Utah   \n",
      "84         85                                  Durham University   \n",
      "85         86   London School of Economics and Political Science   \n",
      "86         87                           University of Manchester   \n",
      "87         88               Royal Holloway, University of London   \n",
      "88         89                                    Lund University   \n",
      "89         90                          University of Southampton   \n",
      "90         90                               University of Zurich   \n",
      "91         90                             Wake Forest University   \n",
      "92         93                                McMaster University   \n",
      "93         94                          University College Dublin   \n",
      "94         95                       George Washington University   \n",
      "95         95                              University of Arizona   \n",
      "96         95                                University of Basel   \n",
      "97         98               University of Maryland, College Park   \n",
      "98         99                                  Dartmouth College   \n",
      "99        100                   École Normale Supérieure de Lyon   \n",
      "\n",
      "                                        shanghai_rank  \\\n",
      "0                                  Harvard University   \n",
      "1                             University of Cambridge   \n",
      "2                                 Stanford University   \n",
      "3                  University of California, Berkeley   \n",
      "4         Massachusetts Institute of Technology (MIT)   \n",
      "5                  California Institute of Technology   \n",
      "6                                 Columbia University   \n",
      "7                                Princeton University   \n",
      "8                               University of Chicago   \n",
      "9                                University of Oxford   \n",
      "10                                    Yale University   \n",
      "11                                 Cornell University   \n",
      "12                University of California, San Diego   \n",
      "13              University of California, Los Angeles   \n",
      "14                         University of Pennsylvania   \n",
      "15                  University of Wisconsin - Madison   \n",
      "16                           University of Washington   \n",
      "17            University of California, San Francisco   \n",
      "18                       The Johns Hopkins University   \n",
      "19                            The University of Tokyo   \n",
      "20                 University of Michigan - Ann Arbor   \n",
      "21                                   Kyoto University   \n",
      "22  The Imperial College of Science, Technology an...   \n",
      "23                              University of Toronto   \n",
      "24         University of Illinois at Urbana-Champaign   \n",
      "25                          University College London   \n",
      "26       Swiss Federal Institute of Technology Zurich   \n",
      "27                 Washington University in St. Louis   \n",
      "28                                New York University   \n",
      "29                             Rockefeller University   \n",
      "..                                                ...   \n",
      "70                           University of Heidelberg   \n",
      "71                                  Leiden University   \n",
      "72                                  Tohoku University   \n",
      "73                              University of Arizona   \n",
      "74                 Purdue University - West Lafayette   \n",
      "75                             University of Helsinki   \n",
      "76                          Michigan State University   \n",
      "77                                    Rice University   \n",
      "78                 The Hebrew University of Jerusalem   \n",
      "79                                  Boston University   \n",
      "80                              King's College London   \n",
      "81                            University of Melbourne   \n",
      "82                           University of Nottingham   \n",
      "83                           University of Goettingen   \n",
      "84                               University of Vienna   \n",
      "85                                   Brown University   \n",
      "86                     Indiana University Bloomington   \n",
      "87                                University of Basel   \n",
      "88             Texas A&M University - College Station   \n",
      "89                                McMaster University   \n",
      "90                             University of Freiburg   \n",
      "91                           University of Strasbourg   \n",
      "92                   Ecole Normale Superieure - Paris   \n",
      "93                               Stockholm University   \n",
      "94                      Tokyo Institute of Technology   \n",
      "95                                 University of Utah   \n",
      "96                   University of Roma - La Sapienza   \n",
      "97                           University of Birmingham   \n",
      "98                                    Lund University   \n",
      "99                                   Tufts University   \n",
      "\n",
      "                                          cwur_rank  \n",
      "0                                Harvard University  \n",
      "1             Massachusetts Institute of Technology  \n",
      "2                               Stanford University  \n",
      "3                           University of Cambridge  \n",
      "4                California Institute of Technology  \n",
      "5                              Princeton University  \n",
      "6                              University of Oxford  \n",
      "7                                   Yale University  \n",
      "8                               Columbia University  \n",
      "9                University of California, Berkeley  \n",
      "10                            University of Chicago  \n",
      "11                               Cornell University  \n",
      "12                       University of Pennsylvania  \n",
      "13                              University of Tokyo  \n",
      "14                         Johns Hopkins University  \n",
      "15  Swiss Federal Institute of Technology in Zurich  \n",
      "16                                 Kyoto University  \n",
      "17                    Weizmann Institute of Science  \n",
      "18            University of California, Los Angeles  \n",
      "19              University of California, San Diego  \n",
      "20                           Rockefeller University  \n",
      "21                   Hebrew University of Jerusalem  \n",
      "22                              New York University  \n",
      "23          University of California, San Francisco  \n",
      "24                  University of Wisconsin–Madison  \n",
      "25       University of Illinois at Urbana–Champaign  \n",
      "26                                  Duke University  \n",
      "27                          Imperial College London  \n",
      "28  University of Texas Southwestern Medical Center  \n",
      "29                    University of Texas at Austin  \n",
      "..                                              ...  \n",
      "70     University of Pittsburgh - Pittsburgh Campus  \n",
      "71                 Rutgers University-New Brunswick  \n",
      "72            Texas A&M University, College Station  \n",
      "73                                Nagoya University  \n",
      "74                        Seoul National University  \n",
      "75                         University of Manchester  \n",
      "76                      Sapienza University of Rome  \n",
      "77                  Case Western Reserve University  \n",
      "78                                Tohoku University  \n",
      "79                         Arizona State University  \n",
      "80                                 Emory University  \n",
      "81           Ruprecht Karl University of Heidelberg  \n",
      "82           Ludwig Maximilian University of Munich  \n",
      "83                           University of Virginia  \n",
      "84                                Leiden University  \n",
      "85                                 Tufts University  \n",
      "86                  Georgia Institute of Technology  \n",
      "87                             University of Zurich  \n",
      "88                           University of Helsinki  \n",
      "89                   Technical University of Munich  \n",
      "90                               University of Oslo  \n",
      "91                         University of Queensland  \n",
      "92                         University of Copenhagen  \n",
      "93                             University of Sydney  \n",
      "94                                 Williams College  \n",
      "95    University of Texas MD Anderson Cancer Center  \n",
      "96                         University of Nottingham  \n",
      "97                            University of Bristol  \n",
      "98                               Utrecht University  \n",
      "99                                  Mines ParisTech  \n",
      "\n",
      "[100 rows x 4 columns]\n"
     ]
    }
   ],
   "source": [
    "timesTop100 = timesData.loc[:99, ['world_rank', 'university_name']]\n",
    "timesTop100 = timesTop100.rename(columns={'university_name': 'times_rank'})\n",
    "\n",
    "shanghaiTop100 = shanghaiData.loc[:99, ['university_name']]\n",
    "shanghaiTop100 = shanghaiTop100.rename(columns={'university_name': 'shanghai_rank'})\n",
    "\n",
    "cwurTop100 = cwurData.loc[:99, ['institution']]\n",
    "cwurTop100 = cwurTop100.rename(columns={'institution': 'cwur_rank'})\n",
    "\n",
    "# The top 100 University rankings side by side\n",
    "mergedTop100 = pd.concat([timesTop100, shanghaiTop100, cwurTop100], axis=1)\n",
    "print(mergedTop100)"
   ]
  },
  {
   "cell_type": "markdown",
   "metadata": {},
   "source": [
    "### Idea 1: \n",
    "As the Times Higher Education World University Ranking is founded in the United Kingdom. There has been rumors that the Times Ranking has been biased towards English-based universitites (USA and UK). By combining the database with other rankings not from the UK/US, we can compare and explore the number of english speaking institutes in the top 100 for each rankings and see if there is anything that stands out.\n",
    "\n",
    "As only the Times and Center for World University Rankings provided the country corresponding to the University, we will only be using the data from these ranking to execute idea 1. A possible solution would be to insert the country value one by one into the csv file for the Shanghai ranking but it will be overly tedious."
   ]
  },
  {
   "cell_type": "code",
   "execution_count": 3,
   "metadata": {},
   "outputs": [
    {
     "data": {
      "text/plain": [
       "<matplotlib.axes._subplots.AxesSubplot at 0x10746b940>"
      ]
     },
     "execution_count": 3,
     "metadata": {},
     "output_type": "execute_result"
    },
    {
     "data": {
      "image/png": "[encoded data removed]",
      "text/plain": [
       "<Figure size 432x288 with 1 Axes>"
      ]
     },
     "metadata": {},
     "output_type": "display_data"
    }
   ],
   "source": [
    "timesUniCountry = timesData.loc[:99, ['country']]\n",
    "# Universites from UK or USA in the top 100 for Times \n",
    "timesEnglishBasedUni = timesUniCountry[timesUniCountry['country'].isin(['United States of America', 'United Kingdom'])]\n",
    "timesEnglishBasedUniCount = timesEnglishBasedUni.country.count()\n",
    "\n",
    "cwurUniCountry = cwurData.loc[:99, ['country']]\n",
    "# Universites from UK or USA in the top 100 for CWUR\n",
    "cwurEnglishBasedUni = cwurUniCountry[cwurUniCountry['country'].isin(['USA', 'United Kingdom'])]\n",
    "cwurEnglishBasedUniCount = cwurEnglishBasedUni.country.count()\n",
    "\n",
    "mergedEnglishUniCount = {'English Based University Count in Top 100': [timesEnglishBasedUniCount, cwurEnglishBasedUniCount]}\n",
    "mergedEnglishUniCountDF = pd.DataFrame(mergedEnglishUniCount, index=['times rank', 'cwur rank']) \n",
    "mergedEnglishUniCountDF.plot(kind = 'bar')"
   ]
  },
  {
   "cell_type": "markdown",
   "metadata": {},
   "source": [
    "#### Conclusion to Idea 1:\n",
    "As we can see above the number of English Based University in the top 100 is very close with Times having 67 of them and the Center for World University having 66. From this exploration, we can deduce that the bias is not present. However, there are some key concerns regarding this exploration and deduction.\n",
    "\n",
    "The first concern is that we are only comparing 2 rankings side by side, and we might need more diversity in the data source to accurately reach a conclusion. \n",
    "\n",
    "The second concern is that we did not do deeper analysis into the data. Although both ranking have around 66 universities in the top 100. A possibility could have been that the Times Rankings have placed those 66 universities in the upper portion of the top 100, while the Center for World University placed them in the bottom portion. If this is the case the conclusion would have been different.\n",
    "\n",
    "Therefore, for the purpose of this exercise, I have concluded that there isn't any visible bias towards UK and USA universities in the Times Ranking."
   ]
  },
  {
   "cell_type": "markdown",
   "metadata": {},
   "source": [
    "### Idea 2:\n",
    "If there was an algorithm to aggregate all the top 100 University rankings from different sources and outputs a new top 100 that reflects the average of all the rankings, it could provide a new perpective and insight to viewers.\n",
    "\n",
    "#### Conclusion to Idea 2:\n",
    "After some research, I came across an algorithm that would actually help solve this problem by aggregrating all the different input ranks and outputting a single averaged rank that reflects all the other rank. This algorithm was initially used for the purpose of electoral voting. Although I will not be implementing this algorithm for the exercise, it would be a really cool side project to build a program for it. Source: https://arxiv.org/pdf/1804.02973.pdf"
   ]
  }
 ],
 "metadata": {
  "kernelspec": {
   "display_name": "Python 3",
   "language": "python",
   "name": "python3"
  },
  "language_info": {
   "codemirror_mode": {
    "name": "ipython",
    "version": 3
   },
   "file_extension": ".py",
   "mimetype": "text/x-python",
   "name": "python",
   "nbconvert_exporter": "python",
   "pygments_lexer": "ipython3",
   "version": "3.6.5"
  }
 },
 "nbformat": 4,
 "nbformat_minor": 2
}
